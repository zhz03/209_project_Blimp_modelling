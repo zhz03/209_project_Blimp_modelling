{
  "nbformat": 4,
  "nbformat_minor": 0,
  "metadata": {
    "colab": {
      "name": "Buoyancy+Geometry.ipynb",
      "provenance": []
    },
    "kernelspec": {
      "name": "python3",
      "display_name": "Python 3"
    }
  },
  "cells": [
    {
      "cell_type": "markdown",
      "metadata": {
        "id": "sfditZtAJUtF"
      },
      "source": [
        "#Formula:\n",
        "$⍴_{a}=⍴_{Hellium}-⍴_{air}$\n",
        "\n",
        "$B = ⍴_{a}Vg $\n",
        "\n",
        "$V = \\frac{3}{4}\\ * \\pi *a*b*c $\n"
      ]
    },
    {
      "cell_type": "markdown",
      "metadata": {
        "id": "SgKRDqNDIMKH"
      },
      "source": [
        "# Input:\n",
        "$⍴_{a}$: density difference between helium and air \n",
        "\n",
        "$a,b,c$: diameters along x,y,z \n",
        "\n",
        "$W$: weight of each component \n",
        "\n",
        "\n"
      ]
    },
    {
      "cell_type": "markdown",
      "metadata": {
        "id": "VbBjJLQLIzie"
      },
      "source": [
        "#Output\n",
        "\n",
        "1.Buoyancy Force\n",
        "\n",
        "2.Volume"
      ]
    },
    {
      "cell_type": "code",
      "metadata": {
        "id": "mxw56pyjOxTw"
      },
      "source": [
        "import math\n",
        "import matplotlib.pyplot as plt\n",
        "import numpy as np\n",
        "\n",
        "def calc_Volume(a,b,c):\n",
        "  pi = math.pi\n",
        "  r_a = round(0.5*a,5)\n",
        "  r_b = round(0.5*b,5)\n",
        "  r_c = round(0.5*c,5)\n",
        "  v = (pi * r_a * r_b * r_c)*3/4\n",
        "  v = round(v,5)\n",
        "  return v\n",
        "def total_weight(w):\n",
        "  w_t = 0\n",
        "  for i in w:\n",
        "    w_t = i + w_t\n",
        "  return w_t\n",
        "def calc_Buoyancy(p_hellium,p_air,a,b,c,w):\n",
        "  p = round(p_hellium - p_air,5)\n",
        "  g = 9.8;\n",
        "  v = round(calc_Volume(a,b,c),5)\n",
        "  w_t = round(total_weight(w),5)\n",
        "  B = (p * v - w_t)*g\n",
        "  B = round(B,5) \n",
        "  \n",
        "  return B\n",
        "\n"
      ],
      "execution_count": null,
      "outputs": []
    },
    {
      "cell_type": "code",
      "metadata": {
        "colab": {
          "base_uri": "https://localhost:8080/"
        },
        "id": "_J6pUrA2VdPD",
        "outputId": "c384435f-5450-4ec7-eab7-a2e660861f52"
      },
      "source": [
        "calc_Buoyancy(200,300,2,3,5,[3,5,43])"
      ],
      "execution_count": null,
      "outputs": [
        {
          "output_type": "execute_result",
          "data": {
            "text/plain": [
              "-9158.8154"
            ]
          },
          "metadata": {
            "tags": []
          },
          "execution_count": 10
        }
      ]
    }
  ]
}